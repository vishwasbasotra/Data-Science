{
 "cells": [
  {
   "cell_type": "markdown",
   "metadata": {},
   "source": [
    "# Inheritance in Python:\n",
    "Inheritance is a fundamental concept in Object-Oriented Programming(OOP) that allows a class to inherit attributes and methods from another class."
   ]
  },
  {
   "cell_type": "code",
   "execution_count": 1,
   "metadata": {},
   "outputs": [
    {
     "name": "stdout",
     "output_type": "stream",
     "text": [
      "The person will drive the Petrol car\n"
     ]
    }
   ],
   "source": [
    "# inheritance\n",
    "# parent class\n",
    "class car():\n",
    "\n",
    "    def __init__(self, windows, doors, enginetype):\n",
    "        self.windows = windows\n",
    "        self.doors = doors\n",
    "        self.enginetype = enginetype\n",
    "\n",
    "    def drive(self):\n",
    "        print(f\"The person will drive the {self.enginetype} car\")\n",
    "\n",
    "car1 = car(4, 5, 'Petrol')\n",
    "car1.drive()"
   ]
  },
  {
   "cell_type": "code",
   "execution_count": 2,
   "metadata": {},
   "outputs": [],
   "source": [
    "# child class\n",
    "class tesla(car):\n",
    "    def __init__(self, windows, doors, enginetype, is_selfdiriving):\n",
    "        # super() keyword is used to call the parent class\n",
    "        super().__init__(windows, doors, enginetype)\n",
    "        self.is_selfdriving = is_selfdiriving\n",
    "    def self_driving(self):\n",
    "        print(f\"Tesla supports self driving: {self.is_selfdriving}\")\n",
    "\n"
   ]
  },
  {
   "cell_type": "code",
   "execution_count": 3,
   "metadata": {},
   "outputs": [],
   "source": [
    "car2 = tesla(4, 5, 'Electric', True)"
   ]
  },
  {
   "cell_type": "code",
   "execution_count": 4,
   "metadata": {},
   "outputs": [
    {
     "name": "stdout",
     "output_type": "stream",
     "text": [
      "Tesla supports self driving: True\n",
      "None\n"
     ]
    }
   ],
   "source": [
    "print(car2.self_driving())"
   ]
  },
  {
   "cell_type": "code",
   "execution_count": 5,
   "metadata": {},
   "outputs": [
    {
     "name": "stdout",
     "output_type": "stream",
     "text": [
      "5\n"
     ]
    }
   ],
   "source": [
    "print(car2.doors)"
   ]
  },
  {
   "cell_type": "code",
   "execution_count": 6,
   "metadata": {},
   "outputs": [
    {
     "name": "stdout",
     "output_type": "stream",
     "text": [
      "The person will drive the Electric car\n"
     ]
    }
   ],
   "source": [
    "car2.drive()"
   ]
  },
  {
   "cell_type": "code",
   "execution_count": 7,
   "metadata": {},
   "outputs": [],
   "source": [
    "# multiple inheritance\n",
    "# when a class is inherits from more that 1 base class\n",
    "# base class 1\n",
    "class animal():\n",
    "    def __init__(self, name):\n",
    "        self.name = name\n",
    "    \n",
    "    def speak(self):\n",
    "        print(\"Subclass must implement this method\")\n",
    "    "
   ]
  },
  {
   "cell_type": "code",
   "execution_count": 8,
   "metadata": {},
   "outputs": [],
   "source": [
    "# base class 2\n",
    "class pet():\n",
    "    def __init__(self, owner):\n",
    "        self.owner = owner\n",
    "    "
   ]
  },
  {
   "cell_type": "code",
   "execution_count": 12,
   "metadata": {},
   "outputs": [
    {
     "name": "stdout",
     "output_type": "stream",
     "text": [
      "'Buddy' says woof\n"
     ]
    }
   ],
   "source": [
    "# derived class\n",
    "class dog(animal, pet):\n",
    "    def __init__(self, name, owner):\n",
    "        # now i have 2 base class so, i will have to calling different classes and init function\n",
    "        animal.__init__(self, name)\n",
    "        pet.__init__(self, owner)\n",
    "    def speak(self):\n",
    "        print(f\"'{self.name}' says woof\")\n",
    "\n",
    "# creating object\n",
    "dog1 = dog('Buddy', 'Ryan')\n",
    "dog1.speak()\n",
    "\n"
   ]
  },
  {
   "cell_type": "code",
   "execution_count": 13,
   "metadata": {},
   "outputs": [
    {
     "name": "stdout",
     "output_type": "stream",
     "text": [
      "Owner: Ryan\n"
     ]
    }
   ],
   "source": [
    "print(f\"Owner: {dog1.owner}\")"
   ]
  },
  {
   "cell_type": "code",
   "execution_count": null,
   "metadata": {},
   "outputs": [],
   "source": []
  }
 ],
 "metadata": {
  "kernelspec": {
   "display_name": "Python 3",
   "language": "python",
   "name": "python3"
  },
  "language_info": {
   "codemirror_mode": {
    "name": "ipython",
    "version": 3
   },
   "file_extension": ".py",
   "mimetype": "text/x-python",
   "name": "python",
   "nbconvert_exporter": "python",
   "pygments_lexer": "ipython3",
   "version": "3.12.4"
  }
 },
 "nbformat": 4,
 "nbformat_minor": 2
}
