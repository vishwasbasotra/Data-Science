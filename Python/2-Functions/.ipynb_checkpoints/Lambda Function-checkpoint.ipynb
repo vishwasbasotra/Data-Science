{
 "cells": [
  {
   "cell_type": "code",
   "execution_count": 1,
   "id": "739261ba-f771-4d4d-8c3c-c4b0d3e850fc",
   "metadata": {},
   "outputs": [],
   "source": [
    "def addition(a, b):\n",
    "    return a+b"
   ]
  },
  {
   "cell_type": "code",
   "execution_count": 3,
   "id": "5b0f8830-f7a5-44dc-b606-773e88df08da",
   "metadata": {},
   "outputs": [
    {
     "data": {
      "text/plain": [
       "5"
      ]
     },
     "execution_count": 3,
     "metadata": {},
     "output_type": "execute_result"
    }
   ],
   "source": [
    "addition(2, 3)"
   ]
  },
  {
   "cell_type": "code",
   "execution_count": 7,
   "id": "9c7c959b-9ffd-4283-8c99-d69d35369be8",
   "metadata": {},
   "outputs": [
    {
     "name": "stdout",
     "output_type": "stream",
     "text": [
      "<class 'function'>\n",
      "5\n"
     ]
    }
   ],
   "source": [
    "addition = lambda a,b:a+b\n",
    "print(type(addition))\n",
    "print(addition(2, 3))"
   ]
  },
  {
   "cell_type": "code",
   "execution_count": 17,
   "id": "95f476c8-e06f-4c3f-ba57-61dec8204f96",
   "metadata": {},
   "outputs": [],
   "source": [
    "def even(num):\n",
    "    if num%2==0:\n",
    "        return True"
   ]
  },
  {
   "cell_type": "code",
   "execution_count": 19,
   "id": "3fe2194a-c869-41b4-8929-a9a4e7308272",
   "metadata": {},
   "outputs": [
    {
     "name": "stdout",
     "output_type": "stream",
     "text": [
      "True\n"
     ]
    }
   ],
   "source": [
    "print(even(2))"
   ]
  },
  {
   "cell_type": "code",
   "execution_count": 21,
   "id": "5460df52-6ae9-49ed-b5c9-a12d075ccffa",
   "metadata": {},
   "outputs": [
    {
     "name": "stdout",
     "output_type": "stream",
     "text": [
      "False\n"
     ]
    }
   ],
   "source": [
    "ifeven = lambda num: num%2==0\n",
    "print(ifeven(3))"
   ]
  },
  {
   "cell_type": "code",
   "execution_count": 31,
   "id": "86b110b3-c791-40da-b470-04959356a4e6",
   "metadata": {},
   "outputs": [],
   "source": [
    "def addition(a, b, c):\n",
    "    return a+b+c"
   ]
  },
  {
   "cell_type": "code",
   "execution_count": 33,
   "id": "33b0eead-d2d8-442f-b2fa-48fc18261fd9",
   "metadata": {},
   "outputs": [
    {
     "name": "stdout",
     "output_type": "stream",
     "text": [
      "42\n"
     ]
    }
   ],
   "source": [
    "print(addition(13, 14 ,15))"
   ]
  },
  {
   "cell_type": "code",
   "execution_count": 35,
   "id": "7defb759-6d39-4d43-b201-9afb43a9e280",
   "metadata": {},
   "outputs": [
    {
     "name": "stdout",
     "output_type": "stream",
     "text": [
      "42\n"
     ]
    }
   ],
   "source": [
    "addition = lambda x,y,z: x+y+z\n",
    "print(addition(13,14,15))"
   ]
  },
  {
   "cell_type": "code",
   "execution_count": 41,
   "id": "7380cf40-a04a-46c7-98eb-6205b2b52cb6",
   "metadata": {},
   "outputs": [],
   "source": [
    "numbers = [1,2,3,4,5,6]\n",
    "def squared(number):\n",
    "    return number**2"
   ]
  },
  {
   "cell_type": "code",
   "execution_count": 43,
   "id": "845bfbf2-66da-4b44-9895-89a3969179fa",
   "metadata": {},
   "outputs": [
    {
     "data": {
      "text/plain": [
       "16"
      ]
     },
     "execution_count": 43,
     "metadata": {},
     "output_type": "execute_result"
    }
   ],
   "source": [
    "squared(4)"
   ]
  },
  {
   "cell_type": "code",
   "execution_count": 45,
   "id": "4534d9e7-001b-45f3-902b-7dfe163f50d0",
   "metadata": {},
   "outputs": [
    {
     "data": {
      "text/plain": [
       "[1, 4, 9, 16, 25, 36]"
      ]
     },
     "execution_count": 45,
     "metadata": {},
     "output_type": "execute_result"
    }
   ],
   "source": [
    "squared_numbers = list(map(lambda x:x**2, numbers))\n",
    "squared_numbers"
   ]
  },
  {
   "cell_type": "code",
   "execution_count": null,
   "id": "7738157e-cb53-46c3-a60e-6211ad9e6285",
   "metadata": {},
   "outputs": [],
   "source": []
  }
 ],
 "metadata": {
  "kernelspec": {
   "display_name": "Python 3 (ipykernel)",
   "language": "python",
   "name": "python3"
  },
  "language_info": {
   "codemirror_mode": {
    "name": "ipython",
    "version": 3
   },
   "file_extension": ".py",
   "mimetype": "text/x-python",
   "name": "python",
   "nbconvert_exporter": "python",
   "pygments_lexer": "ipython3",
   "version": "3.12.4"
  }
 },
 "nbformat": 4,
 "nbformat_minor": 5
}
