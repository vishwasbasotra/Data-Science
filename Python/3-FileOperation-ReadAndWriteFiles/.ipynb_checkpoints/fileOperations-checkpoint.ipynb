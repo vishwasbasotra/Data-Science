{
 "cells": [
  {
   "cell_type": "markdown",
   "id": "c91a5c5b-4362-49ca-a18d-85ec0417c0fb",
   "metadata": {},
   "source": [
    "# File Operations - Read and Write files\n",
    "**File handling is a crucial part of any programming language. Python provides built-in functions and methods to read from and write files, both text and binary.**"
   ]
  },
  {
   "cell_type": "code",
   "execution_count": null,
   "id": "ec4f321b-d98e-453c-8165-547d63d61250",
   "metadata": {},
   "outputs": [],
   "source": [
    "# reading a whole file\n",
    "with open('example.txt', 'r'):\n",
    "    "
   ]
  }
 ],
 "metadata": {
  "kernelspec": {
   "display_name": "Python 3 (ipykernel)",
   "language": "python",
   "name": "python3"
  },
  "language_info": {
   "codemirror_mode": {
    "name": "ipython",
    "version": 3
   },
   "file_extension": ".py",
   "mimetype": "text/x-python",
   "name": "python",
   "nbconvert_exporter": "python",
   "pygments_lexer": "ipython3",
   "version": "3.12.4"
  }
 },
 "nbformat": 4,
 "nbformat_minor": 5
}
