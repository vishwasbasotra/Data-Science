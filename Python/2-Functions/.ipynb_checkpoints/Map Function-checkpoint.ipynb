{
 "cells": [
  {
   "cell_type": "markdown",
   "id": "3ea30cb7-c897-451e-8a90-a8d15006d597",
   "metadata": {},
   "source": [
    "### map() function applies a given function to all the items in an input list(or any other iterable) and returns an object(an iterator)"
   ]
  },
  {
   "cell_type": "code",
   "execution_count": 9,
   "id": "9a535721-28bb-4fc5-8967-d96748e848a7",
   "metadata": {},
   "outputs": [],
   "source": [
    "numbers = [1,2,3,4,5,6,7]"
   ]
  },
  {
   "cell_type": "code",
   "execution_count": 11,
   "id": "0a79b994-700b-4cb4-8a1a-5b17e176fcf2",
   "metadata": {},
   "outputs": [],
   "source": [
    "def squared(x):\n",
    "    return x**2"
   ]
  },
  {
   "cell_type": "code",
   "execution_count": 15,
   "id": "a53e205f-7fc4-42ab-9ac2-413aa71e313a",
   "metadata": {},
   "outputs": [
    {
     "name": "stdout",
     "output_type": "stream",
     "text": [
      "[1, 4, 9, 16, 25, 36, 49]\n"
     ]
    }
   ],
   "source": [
    "print(list(map(squared, numbers)))"
   ]
  },
  {
   "cell_type": "code",
   "execution_count": 17,
   "id": "beca5cc6-7e87-47c5-9b89-7829aaeee8b1",
   "metadata": {},
   "outputs": [
    {
     "name": "stdout",
     "output_type": "stream",
     "text": [
      "[1, 4, 9, 16, 25, 36, 49]\n"
     ]
    }
   ],
   "source": [
    "squared = lambda x: x**2\n",
    "print(list(map(squared, numbers)))"
   ]
  },
  {
   "cell_type": "markdown",
   "id": "86b7a01c-e11a-444f-b371-03fc27591545",
   "metadata": {},
   "source": [
    "#### Mapping multiple iterables:"
   ]
  },
  {
   "cell_type": "code",
   "execution_count": 20,
   "id": "8a294f4d-ec3d-4dbb-b163-7211e417e3aa",
   "metadata": {},
   "outputs": [
    {
     "name": "stdout",
     "output_type": "stream",
     "text": [
      "[5, 7, 9]\n"
     ]
    }
   ],
   "source": [
    "numbers1 = [1,2,3]\n",
    "numbers2 = [4,5,6]\n",
    "added_numbers = lambda x,y:x+y\n",
    "print(list(map(added_numbers, numbers1, numbers2)))"
   ]
  },
  {
   "cell_type": "code",
   "execution_count": 29,
   "id": "ef397f6d-e916-40a5-bf43-5c2997526b96",
   "metadata": {},
   "outputs": [
    {
     "name": "stdout",
     "output_type": "stream",
     "text": [
      "[1, 2, 3, 4, 5, 6]\n"
     ]
    }
   ],
   "source": [
    "#map() to convert list of strings to integers\n",
    "str_numbers = ['1', '2', '3', '4', '5', '6']\n",
    "print(list(map(int, str_numbers)))"
   ]
  },
  {
   "cell_type": "code",
   "execution_count": 27,
   "id": "1e6c2ee1-17e6-4bc8-8336-5bcb92c8a579",
   "metadata": {},
   "outputs": [
    {
     "name": "stdout",
     "output_type": "stream",
     "text": [
      "['APPLE', 'BANANA', 'CHERRY']\n"
     ]
    }
   ],
   "source": [
    "words = ['apple', 'banana', 'cherry']\n",
    "upper_words = list(map(str.upper, words))\n",
    "print(upper_words)"
   ]
  },
  {
   "cell_type": "code",
   "execution_count": 37,
   "id": "ac23ef02-43fb-4bd7-9d30-0aa76ac2470c",
   "metadata": {},
   "outputs": [],
   "source": [
    "people = [\n",
    "    {\n",
    "        'name': 'Paras',\n",
    "        'age':21\n",
    "    },\n",
    "    {\n",
    "        'name': 'Soham',\n",
    "        'age':18\n",
    "    }\n",
    "]"
   ]
  },
  {
   "cell_type": "code",
   "execution_count": 39,
   "id": "86044885-608b-45d2-85c8-de3d750e99f8",
   "metadata": {},
   "outputs": [],
   "source": [
    "def get_name(person):\n",
    "    return person['name']"
   ]
  },
  {
   "cell_type": "code",
   "execution_count": 41,
   "id": "979314a7-98f8-4e4b-86db-b72d9fcc777b",
   "metadata": {},
   "outputs": [
    {
     "data": {
      "text/plain": [
       "['Paras', 'Soham']"
      ]
     },
     "execution_count": 41,
     "metadata": {},
     "output_type": "execute_result"
    }
   ],
   "source": [
    "list(map(get_name, people))"
   ]
  },
  {
   "cell_type": "code",
   "execution_count": null,
   "id": "b1e68cc8-2575-4de4-b648-5f49e1859cd4",
   "metadata": {},
   "outputs": [],
   "source": []
  }
 ],
 "metadata": {
  "kernelspec": {
   "display_name": "Python 3 (ipykernel)",
   "language": "python",
   "name": "python3"
  },
  "language_info": {
   "codemirror_mode": {
    "name": "ipython",
    "version": 3
   },
   "file_extension": ".py",
   "mimetype": "text/x-python",
   "name": "python",
   "nbconvert_exporter": "python",
   "pygments_lexer": "ipython3",
   "version": "3.12.4"
  }
 },
 "nbformat": 4,
 "nbformat_minor": 5
}
