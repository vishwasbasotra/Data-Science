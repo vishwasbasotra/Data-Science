{
 "cells": [
  {
   "cell_type": "markdown",
   "id": "c91a5c5b-4362-49ca-a18d-85ec0417c0fb",
   "metadata": {},
   "source": [
    "# File Operations - Read and Write files\n",
    "**File handling is a crucial part of any programming language. Python provides built-in functions and methods to read from and write files, both text and binary.**"
   ]
  },
  {
   "cell_type": "code",
   "execution_count": 1,
   "id": "ec4f321b-d98e-453c-8165-547d63d61250",
   "metadata": {},
   "outputs": [
    {
     "name": "stdout",
     "output_type": "stream",
     "text": [
      "Hello world! \n",
      "this is new line.\n",
      "append operation taking place.\n",
      "first line.\n",
      "second line.\n",
      "third line.\n",
      "\n"
     ]
    }
   ],
   "source": [
    "# reading a whole file\n",
    "with open('example.txt','r') as file:\n",
    "    content = file.read()\n",
    "    print(content)"
   ]
  },
  {
   "cell_type": "code",
   "execution_count": 2,
   "id": "f9512d14",
   "metadata": {},
   "outputs": [
    {
     "name": "stdout",
     "output_type": "stream",
     "text": [
      "Hello world!\n",
      "this is new line.\n",
      "append operation taking place.\n",
      "first line.\n",
      "second line.\n",
      "third line.\n"
     ]
    }
   ],
   "source": [
    "# read file line by line\n",
    "with open('example.txt', 'r') as file:\n",
    "    for line in file:\n",
    "        print(line.strip())  #strip() removes the newline character"
   ]
  },
  {
   "cell_type": "code",
   "execution_count": 3,
   "id": "f4c3180b",
   "metadata": {},
   "outputs": [],
   "source": [
    "# writing a file (overwriting) 'w' always overwrite the content inside the file\n",
    "with open('example.txt', 'w') as file:\n",
    "    file.write('Hello world! \\n')\n",
    "    file.write('this is new line.')"
   ]
  },
  {
   "cell_type": "code",
   "execution_count": 4,
   "id": "2f1dee61",
   "metadata": {},
   "outputs": [],
   "source": [
    "# using 'a' append to add new content in the existing file\n",
    "with open('example.txt', 'a') as file:\n",
    "    file.write('\\nappend operation taking place.\\n')"
   ]
  },
  {
   "cell_type": "code",
   "execution_count": 5,
   "id": "1889b150",
   "metadata": {},
   "outputs": [
    {
     "name": "stdout",
     "output_type": "stream",
     "text": [
      "Hello world! \n",
      "this is new line.\n",
      "append operation taking place.\n",
      "first line.\n",
      "second line.\n",
      "third line.\n",
      "\n"
     ]
    }
   ],
   "source": [
    "# writing list of lines into a file\n",
    "lines = ['first line.\\n', 'second line.\\n', 'third line.\\n']\n",
    "with open('example.txt', 'a') as file:\n",
    "    file.writelines(lines)\n",
    "with open('example.txt', 'r') as file:\n",
    "    print(file.read())"
   ]
  },
  {
   "cell_type": "markdown",
   "id": "0dd7065b",
   "metadata": {},
   "source": [
    "## Working with binary files:"
   ]
  },
  {
   "cell_type": "code",
   "execution_count": 6,
   "id": "8d37e9e5",
   "metadata": {},
   "outputs": [],
   "source": [
    "# write to a binary file\n",
    "data = b'\\x00\\x01\\x02\\x03\\x04'\n",
    "with open('example.bin', 'wb') as file:\n",
    "    file.write(data)"
   ]
  },
  {
   "cell_type": "code",
   "execution_count": 7,
   "id": "f65390e6",
   "metadata": {},
   "outputs": [
    {
     "name": "stdout",
     "output_type": "stream",
     "text": [
      "\u0000\u0001\u0002\u0003\u0004\n"
     ]
    }
   ],
   "source": [
    "with open('example.bin', 'r') as file:\n",
    "    print(file.read())"
   ]
  },
  {
   "cell_type": "code",
   "execution_count": 8,
   "id": "9524cc86",
   "metadata": {},
   "outputs": [],
   "source": [
    "# Reading content from a text file and write to a destination text file\n",
    "# fyi copying a text file\n",
    "with open('example.txt', 'r') as file:\n",
    "    content = file.read()\n",
    "with open('destination.txt', 'w') as destinationFile:\n",
    "    destinationFile.write(content)"
   ]
  },
  {
   "cell_type": "code",
   "execution_count": 9,
   "id": "9784500a",
   "metadata": {},
   "outputs": [],
   "source": [
    "# read a text file and count the number of lines, words, and characters\n",
    "def count_text(file_path):\n",
    "    with open('example.txt', 'r') as file:\n",
    "        lines = file.readlines()\n",
    "        lineCount = len(lines)\n",
    "        wordCount = sum(len(line.split()) for line in lines)\n",
    "        characterCount = sum(len(line) for line in lines)\n",
    "        return lineCount, wordCount, characterCount"
   ]
  },
  {
   "cell_type": "code",
   "execution_count": 10,
   "id": "744e61d7",
   "metadata": {},
   "outputs": [
    {
     "name": "stdout",
     "output_type": "stream",
     "text": [
      "Lines: 6, Words: 16, Character: 100\n"
     ]
    }
   ],
   "source": [
    "path = 'example.txt'\n",
    "lineCount, wordCount, characterCount = count_text(path)\n",
    "print(f\"Lines: {lineCount}, Words: {wordCount}, Character: {characterCount}\")"
   ]
  },
  {
   "cell_type": "markdown",
   "id": "7547cd96",
   "metadata": {},
   "source": [
    "**The W+ mode in python is used to open a file for both reading and writing. If the file doesn't exit, it will be created. If the file exists, its content is truncated(i.e., the file overwritten).**"
   ]
  },
  {
   "cell_type": "code",
   "execution_count": 11,
   "id": "0ab0240e",
   "metadata": {},
   "outputs": [
    {
     "name": "stdout",
     "output_type": "stream",
     "text": [
      "Hello world!\n",
      "This is a new line.\n",
      "\n"
     ]
    }
   ],
   "source": [
    "# writing and then reading a file\n",
    "with open('example.txt', 'w+') as file:\n",
    "    file.write(\"Hello world!\\n\")\n",
    "    file.write(\"This is a new line.\\n\")\n",
    "\n",
    "    # move the file cursor to the begining\n",
    "    file.seek(0)  # 0 will move the character to the begining\n",
    "    content = file.read()\n",
    "    print(content)"
   ]
  },
  {
   "cell_type": "markdown",
   "id": "4b41fb7e",
   "metadata": {},
   "source": []
  }
 ],
 "metadata": {
  "kernelspec": {
   "display_name": "Python 3 (ipykernel)",
   "language": "python",
   "name": "python3"
  },
  "language_info": {
   "codemirror_mode": {
    "name": "ipython",
    "version": 3
   },
   "file_extension": ".py",
   "mimetype": "text/x-python",
   "name": "python",
   "nbconvert_exporter": "python",
   "pygments_lexer": "ipython3",
   "version": "3.12.4"
  }
 },
 "nbformat": 4,
 "nbformat_minor": 5
}
