{
 "cells": [
  {
   "cell_type": "markdown",
   "metadata": {},
   "source": [
    "# Operator Overloading:\n",
    "Operator Overloading allows you to define the behavior of operators(+, -, *, etc) for custom objects. You achieve this by overriding specific magic methods in your class."
   ]
  },
  {
   "cell_type": "code",
   "execution_count": 1,
   "metadata": {},
   "outputs": [
    {
     "data": {
      "text/plain": [
       "'\\n__add__(self, other): Adds two objects using + operator.\\n__sub__(self, other): subtracts two objects using - operator.\\n__mul__(self, other): Multiplies two objects using * operator.\\n__truediv__(self, other): Divides two objects using / operator.\\n__eq__(self, other): Checks if two objects are equall using == operator.\\n__lt__(self, other): Checks if one object is less that another using < operator.\\n'"
      ]
     },
     "execution_count": 1,
     "metadata": {},
     "output_type": "execute_result"
    }
   ],
   "source": [
    "# common operator overloading magic methods\n",
    "'''\n",
    "__add__(self, other): Adds two objects using + operator.\n",
    "__sub__(self, other): subtracts two objects using - operator.\n",
    "__mul__(self, other): Multiplies two objects using * operator.\n",
    "__truediv__(self, other): Divides two objects using / operator.\n",
    "__eq__(self, other): Checks if two objects are equall using == operator.\n",
    "__lt__(self, other): Checks if one object is less that another using < operator.\n",
    "__gt__(self, other): Checks if one object is greater that another using > operator.\n",
    "'''"
   ]
  },
  {
   "cell_type": "code",
   "execution_count": 5,
   "metadata": {},
   "outputs": [
    {
     "name": "stdout",
     "output_type": "stream",
     "text": [
      "Addition:  Vector:\n",
      " x: 6, y: 8\n",
      "Substraction:  Vector:\n",
      " x: -2, y: -2\n",
      "Multiplication:  Vector:\n",
      " x: 8, y: 15\n",
      "EQ:  Vector:\n",
      " x: False, y: False\n"
     ]
    }
   ],
   "source": [
    "# Mathematical operation for vectors (or objects)\n",
    "class Vector:\n",
    "    def __init__(self, x, y):\n",
    "        self.x = x\n",
    "        self.y = y\n",
    "    \n",
    "    def __add__(self, other):\n",
    "        return Vector(self.x + other.x, self.y + other.y)\n",
    "    def __sub__(self, other):\n",
    "        return Vector(self.x - other.x, self.y - other.y)\n",
    "    def __mul__(self, other):\n",
    "        return Vector(self.x * other.x, self.y * other.y)\n",
    "    def __eq__(self, other):\n",
    "        return Vector(self.x == other.x, self.y == other.y)\n",
    "    def __repr__(self):\n",
    "        return f\"Vector:\\n x: {self.x}, y: {self.y}\"\n",
    "\n",
    "v1 = Vector(2, 3)\n",
    "v2 = Vector(4,5)\n",
    "print(\"Addition: \",v1+v2)\n",
    "print(\"Substraction: \",v1-v2)\n",
    "print(\"Multiplication: \",v1*v2)\n",
    "print(\"EQ: \",v1==v2)\n",
    "    "
   ]
  },
  {
   "cell_type": "markdown",
   "metadata": {},
   "source": []
  }
 ],
 "metadata": {
  "kernelspec": {
   "display_name": "Python 3",
   "language": "python",
   "name": "python3"
  },
  "language_info": {
   "codemirror_mode": {
    "name": "ipython",
    "version": 3
   },
   "file_extension": ".py",
   "mimetype": "text/x-python",
   "name": "python",
   "nbconvert_exporter": "python",
   "pygments_lexer": "ipython3",
   "version": "3.12.4"
  }
 },
 "nbformat": 4,
 "nbformat_minor": 2
}
