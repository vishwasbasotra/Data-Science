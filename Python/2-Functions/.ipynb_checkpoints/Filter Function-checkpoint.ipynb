{
 "cells": [
  {
   "cell_type": "markdown",
   "id": "4305da3d-1a74-4f86-bbec-3952f11c36a5",
   "metadata": {},
   "source": [
    "## The filter() function contructs an iterator from elements of an iterable for which a function return true. It is used to filter out items from a list(or any other iterable) based on condition."
   ]
  },
  {
   "cell_type": "code",
   "execution_count": 2,
   "id": "bef442ee-5ce6-4a6a-a11f-68122726660a",
   "metadata": {},
   "outputs": [],
   "source": [
    "def even(num):\n",
    "    return num%2==0"
   ]
  },
  {
   "cell_type": "code",
   "execution_count": 3,
   "id": "cc274fa2-86b1-486f-8b61-fdb0f04929cf",
   "metadata": {},
   "outputs": [
    {
     "data": {
      "text/plain": [
       "True"
      ]
     },
     "execution_count": 3,
     "metadata": {},
     "output_type": "execute_result"
    }
   ],
   "source": [
    "even(24)"
   ]
  },
  {
   "cell_type": "code",
   "execution_count": 4,
   "id": "debf3f81-9dde-40f9-9e27-ee804913c297",
   "metadata": {},
   "outputs": [
    {
     "data": {
      "text/plain": [
       "False"
      ]
     },
     "execution_count": 4,
     "metadata": {},
     "output_type": "execute_result"
    }
   ],
   "source": [
    "even(13)"
   ]
  },
  {
   "cell_type": "code",
   "execution_count": 5,
   "id": "55244341-1cab-4c9f-96c2-42c1222a9ccd",
   "metadata": {},
   "outputs": [],
   "source": [
    "lst = [1,2,3,4,5,6,7,8,9,10,11,12,13,14,15]"
   ]
  },
  {
   "cell_type": "code",
   "execution_count": 6,
   "id": "c27bbf48-2570-4617-aabf-969a76f5bf2b",
   "metadata": {},
   "outputs": [
    {
     "name": "stdout",
     "output_type": "stream",
     "text": [
      "[2, 4, 6, 8, 10, 12, 14]\n"
     ]
    }
   ],
   "source": [
    "even_lst = filter(even, lst)\n",
    "print(list(even_lst))"
   ]
  },
  {
   "cell_type": "code",
   "execution_count": 12,
   "id": "d2f879f6-9618-4c4c-91e8-53f7b7bccfea",
   "metadata": {},
   "outputs": [
    {
     "name": "stdout",
     "output_type": "stream",
     "text": [
      "[6, 7, 8, 9]\n"
     ]
    }
   ],
   "source": [
    "# filter with a lambda function\n",
    "numbers = [1,2,3,4,5,6,7,8,9]\n",
    "greater_than_5 = list(filter(lambda x: x>5, numbers))\n",
    "print(greater_than_5)"
   ]
  },
  {
   "cell_type": "code",
   "execution_count": 14,
   "id": "351a1f14-191e-470e-9555-4a5419f24c44",
   "metadata": {},
   "outputs": [
    {
     "name": "stdout",
     "output_type": "stream",
     "text": [
      "[6, 8]\n"
     ]
    }
   ],
   "source": [
    "# filter with two conditions inside lambda function\n",
    "even_and_greater_than_five = list(filter(lambda x:x>5 and x%2==0, numbers))\n",
    "print(even_and_greater_than_five)"
   ]
  },
  {
   "cell_type": "code",
   "execution_count": 16,
   "id": "ac3952a1-377b-4755-8335-c0b7f2da131e",
   "metadata": {},
   "outputs": [],
   "source": [
    "# filter to check if the age is greater than 25 in dictionary\n",
    "people = [{'name':'Paras', 'age': 22},{'name':'Soham', 'age': 21}, {'name':'Ansh', 'age':34}]"
   ]
  },
  {
   "cell_type": "code",
   "execution_count": 22,
   "id": "316f5e0a-8553-4c22-a6b5-62e2b8c997d0",
   "metadata": {},
   "outputs": [],
   "source": [
    "def age_greater_than_25(person):\n",
    "    return person['age']>25"
   ]
  },
  {
   "cell_type": "code",
   "execution_count": 24,
   "id": "e2d621fd-0b46-4efb-a241-fa1b9047f514",
   "metadata": {},
   "outputs": [
    {
     "name": "stdout",
     "output_type": "stream",
     "text": [
      "[{'name': 'Ansh', 'age': 34}]\n"
     ]
    }
   ],
   "source": [
    "people_25_plus = list(filter(age_greater_than_25, people))\n",
    "print(people_25_plus)"
   ]
  },
  {
   "cell_type": "code",
   "execution_count": null,
   "id": "767fa821-fc60-4926-9db0-25e4a3bae42e",
   "metadata": {},
   "outputs": [],
   "source": []
  },
  {
   "cell_type": "code",
   "execution_count": null,
   "id": "221c2ddd-fdf4-42a2-8ea6-873ee0a800c3",
   "metadata": {},
   "outputs": [],
   "source": []
  },
  {
   "cell_type": "code",
   "execution_count": null,
   "id": "64616815-f5f3-438b-92c3-9a6df15acadf",
   "metadata": {},
   "outputs": [],
   "source": []
  }
 ],
 "metadata": {
  "kernelspec": {
   "display_name": "Python 3 (ipykernel)",
   "language": "python",
   "name": "python3"
  },
  "language_info": {
   "codemirror_mode": {
    "name": "ipython",
    "version": 3
   },
   "file_extension": ".py",
   "mimetype": "text/x-python",
   "name": "python",
   "nbconvert_exporter": "python",
   "pygments_lexer": "ipython3",
   "version": "3.12.4"
  }
 },
 "nbformat": 4,
 "nbformat_minor": 5
}
