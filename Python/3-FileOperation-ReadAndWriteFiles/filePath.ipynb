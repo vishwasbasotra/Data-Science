{
 "cells": [
  {
   "cell_type": "code",
   "execution_count": 1,
   "metadata": {},
   "outputs": [
    {
     "name": "stdout",
     "output_type": "stream",
     "text": [
      "Directory package is created\n"
     ]
    }
   ],
   "source": [
    "# creating a new directory\n",
    "import os\n",
    "new_directory = \"package\"\n",
    "os.makedirs(new_directory)\n",
    "print(f\"Directory {new_directory} is created\")"
   ]
  },
  {
   "cell_type": "code",
   "execution_count": 2,
   "metadata": {},
   "outputs": [
    {
     "name": "stdout",
     "output_type": "stream",
     "text": [
      "['.ipynb_checkpoints', 'destination.txt', 'example.bin', 'example.txt', 'fileOperations.ipynb', 'filePath.ipynb', 'package']\n"
     ]
    }
   ],
   "source": [
    "# listing files and directories:\n",
    "items = os.listdir('.')  # '.' means are lookinga at the current working location\n",
    "print(items)"
   ]
  },
  {
   "cell_type": "code",
   "execution_count": 3,
   "metadata": {},
   "outputs": [
    {
     "name": "stdout",
     "output_type": "stream",
     "text": [
      "folder\\file.txt\n"
     ]
    }
   ],
   "source": [
    "# joining paths\n",
    "dir_name = 'folder'\n",
    "file_name = 'file.txt'\n",
    "full_path = os.path.join(dir_name, file_name)\n",
    "print(full_path)"
   ]
  },
  {
   "cell_type": "code",
   "execution_count": 4,
   "metadata": {},
   "outputs": [
    {
     "name": "stdout",
     "output_type": "stream",
     "text": [
      "d:\\Vishwas\\Python\\FileOperation-ReadAndWriteFiles\\folder\\file.txt\n"
     ]
    }
   ],
   "source": [
    "dir_name = 'folder'\n",
    "file_name = 'file.txt'\n",
    "full_path = os.path.join(os.getcwd(), dir_name, file_name)\n",
    "print(full_path)"
   ]
  },
  {
   "cell_type": "code",
   "execution_count": 5,
   "metadata": {},
   "outputs": [
    {
     "name": "stdout",
     "output_type": "stream",
     "text": [
      "the path 'example1.txt' does not exist\n"
     ]
    }
   ],
   "source": [
    "# checking if a path exist or not\n",
    "path = 'example1.txt'\n",
    "if os.path.exists(path):\n",
    "    print(f\"the path '{path}' exists\")\n",
    "else:\n",
    "    print(f\"the path '{path}' does not exist\")"
   ]
  },
  {
   "cell_type": "code",
   "execution_count": 6,
   "metadata": {},
   "outputs": [
    {
     "name": "stdout",
     "output_type": "stream",
     "text": [
      "the path 'example.txt' is a file\n"
     ]
    }
   ],
   "source": [
    "# checking if a path is a file or a directory\n",
    "path = 'example.txt'\n",
    "if os.path.isfile(path):\n",
    "    print(f\"the path '{path}' is a file\")\n",
    "elif os.path.isdir(path):\n",
    "    print(f\"the path '{path}' is a directory\")\n",
    "else:\n",
    "    print(f\"the path '{path}' is neither a file nor a directory\")\n"
   ]
  },
  {
   "cell_type": "code",
   "execution_count": 8,
   "metadata": {},
   "outputs": [
    {
     "name": "stdout",
     "output_type": "stream",
     "text": [
      "d:\\Vishwas\\Python\\FileOperation-ReadAndWriteFiles\\example.txt\n"
     ]
    }
   ],
   "source": [
    "# getting the absolute path\n",
    "relative_path = 'example.txt'\n",
    "absolute_path = os.path.abspath(relative_path)\n",
    "print(absolute_path)"
   ]
  },
  {
   "cell_type": "code",
   "execution_count": null,
   "metadata": {},
   "outputs": [],
   "source": []
  }
 ],
 "metadata": {
  "kernelspec": {
   "display_name": "Python 3",
   "language": "python",
   "name": "python3"
  },
  "language_info": {
   "codemirror_mode": {
    "name": "ipython",
    "version": 3
   },
   "file_extension": ".py",
   "mimetype": "text/x-python",
   "name": "python",
   "nbconvert_exporter": "python",
   "pygments_lexer": "ipython3",
   "version": "3.12.4"
  }
 },
 "nbformat": 4,
 "nbformat_minor": 2
}
